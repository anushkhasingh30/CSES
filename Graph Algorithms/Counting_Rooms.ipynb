{
  "nbformat": 4,
  "nbformat_minor": 0,
  "metadata": {
    "colab": {
      "name": "Counting Rooms.ipynb",
      "provenance": []
    },
    "kernelspec": {
      "name": "python3",
      "display_name": "Python 3"
    },
    "language_info": {
      "name": "python"
    }
  },
  "cells": [
    {
      "cell_type": "code",
      "execution_count": 8,
      "metadata": {
        "colab": {
          "base_uri": "https://localhost:8080/"
        },
        "id": "wnSpADsCZR4F",
        "outputId": "46f3155b-8d0e-4e24-a86b-9f6e4ca3a00f"
      },
      "outputs": [
        {
          "output_type": "stream",
          "name": "stdout",
          "text": [
            "5 8\n",
            "# # # # # # # #\n",
            "# . . # . . . #\n",
            "# # # # . # . #\n",
            "# . . # . . . #\n",
            "# # # # # # # #\n",
            "3\n"
          ]
        }
      ],
      "source": [
        "class grid():\n",
        "  def __init__(self, row, col):\n",
        "    self.row = row\n",
        "    self.col = col\n",
        "    self.adj_list = [[\" \"]*(self.col+1) for _ in range(self.row+1)]\n",
        "  \n",
        "  def add_edges(self):\n",
        "    for i in range(1, self.row+1):\n",
        "      inp = list(input().split())\n",
        "      for j in range(1, self.col+1):\n",
        "        self.adj_list[i][j] = inp[j-1]\n",
        "  \n",
        "  def __is_valid(self, x, y):\n",
        "    if x<1 or x>self.row or y<1 or y>self.col:\n",
        "      return False\n",
        "    \n",
        "    if self.vis[x][y] == 1 or self.adj_list[x][y] == \"#\":\n",
        "      return False\n",
        "    return True\n",
        "\n",
        "  def dfs(self, x, y):\n",
        "    self.vis[x][y] = 1\n",
        "    # Up down left right\n",
        "    dx = [-1, 1, 0, 0]\n",
        "    dy = [0, 0, -1, 1]\n",
        "\n",
        "    for i in range(len(dx)):\n",
        "      new_x = x + dx[i]\n",
        "      new_y = y + dy[i]\n",
        "      if self.__is_valid(new_x, new_y):\n",
        "        self.dfs(new_x, new_y)\n",
        "  \n",
        "  # Counting the number of rooms\n",
        "  def count_rooms(self):\n",
        "    self.add_edges()\n",
        "    self.vis = [[0]*(self.col+1) for _ in range(self.row+1)]\n",
        "    self.cc_count = 0\n",
        "\n",
        "    for i in range(1, self.row+1):\n",
        "      for j in range(1, self.col+1):\n",
        "        if self.adj_list[i][j] == \".\" and self.vis[i][j] == 0:\n",
        "          self.dfs(i, j)\n",
        "          self.cc_count += 1\n",
        "    return self.cc_count\n",
        "\n",
        "def main():\n",
        "  row, col = list(map(int, input().split()))\n",
        "  g = grid(row, col)\n",
        "  print(g.count_rooms())\n",
        "\n",
        "main()"
      ]
    },
    {
      "cell_type": "code",
      "source": [
        ""
      ],
      "metadata": {
        "id": "zdsltB9Ldjua"
      },
      "execution_count": null,
      "outputs": []
    }
  ]
}