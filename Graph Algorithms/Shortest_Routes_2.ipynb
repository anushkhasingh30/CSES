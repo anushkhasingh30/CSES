{
  "nbformat": 4,
  "nbformat_minor": 0,
  "metadata": {
    "colab": {
      "name": "Shortest Routes 2.ipynb",
      "provenance": []
    },
    "kernelspec": {
      "name": "python3",
      "display_name": "Python 3"
    },
    "language_info": {
      "name": "python"
    }
  },
  "cells": [
    {
      "cell_type": "code",
      "execution_count": 3,
      "metadata": {
        "colab": {
          "base_uri": "https://localhost:8080/"
        },
        "id": "OTyF6hvvUV3X",
        "outputId": "ec62fc45-37da-4404-acd2-08d9b38fdf5b"
      },
      "outputs": [
        {
          "output_type": "stream",
          "name": "stdout",
          "text": [
            "4 3 5\n",
            "1 3 9\n",
            "2 3 3\n",
            "1 2 5\n",
            "[[0, 0, 0, 0, 0], [0, 0, 5, 8, inf], [0, 5, 0, 3, inf], [0, 8, 3, 0, inf], [0, inf, inf, inf, 0]]\n",
            "1 2\n",
            "5\n",
            "2 1\n",
            "5\n",
            "1 3\n",
            "8\n",
            "1 4\n",
            "-1\n",
            "3 2\n",
            "3\n"
          ]
        }
      ],
      "source": [
        "def main():\n",
        "  n,m, q =  list(map(int, input().split()))\n",
        "  dist = [[0]*(n+1) for _ in range(n+1)]\n",
        "\n",
        "  for i in range(1, n+1):\n",
        "    for j in range(1, n+1):\n",
        "      if i == j:\n",
        "        dist[i][j] = 0\n",
        "      else:\n",
        "        dist[i][j] = float(\"inf\")\n",
        "  # print(dist)\n",
        "\n",
        "  while m:\n",
        "    a,b,w = list(map(int, input().split()))\n",
        "    dist[a][b] = w\n",
        "    dist[b][a] = w\n",
        "    m-= 1\n",
        "\n",
        "  for k in range(1, n+1):\n",
        "    for i in range(1, n+1):\n",
        "      for j in range(1, n+1):\n",
        "        dist[i][j] = min(dist[i][j], dist[i][k]+dist[k][j])\n",
        "  \n",
        "  print(dist)\n",
        "\n",
        "  while q:\n",
        "    node_a,node_b = list(map(int, input().split()))\n",
        "    if dist[node_a][node_b] != float(\"inf\"):\n",
        "      print(dist[node_a][node_b])\n",
        "    else:\n",
        "      print(\"-1\")\n",
        "    q-= 1\n",
        "  \n",
        "main()"
      ]
    },
    {
      "cell_type": "code",
      "source": [
        ""
      ],
      "metadata": {
        "id": "ILFPUEGNXgvT"
      },
      "execution_count": null,
      "outputs": []
    }
  ]
}