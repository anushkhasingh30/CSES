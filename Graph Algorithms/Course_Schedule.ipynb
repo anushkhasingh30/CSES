{
  "nbformat": 4,
  "nbformat_minor": 0,
  "metadata": {
    "colab": {
      "name": "Course Schedule.ipynb",
      "provenance": []
    },
    "kernelspec": {
      "name": "python3",
      "display_name": "Python 3"
    },
    "language_info": {
      "name": "python"
    }
  },
  "cells": [
    {
      "cell_type": "code",
      "execution_count": 12,
      "metadata": {
        "colab": {
          "base_uri": "https://localhost:8080/"
        },
        "id": "N30yydErGt7p",
        "outputId": "525e88ec-743c-45ef-c29c-dccc6b346011"
      },
      "outputs": [
        {
          "output_type": "stream",
          "name": "stdout",
          "text": [
            "5 3\n",
            "4 5\n",
            "3 1\n",
            "1 2\n",
            "4 5 3 1 2 "
          ]
        }
      ],
      "source": [
        "class graph():\n",
        "  def __init__(self, vertices, edges):\n",
        "    self.vertices = vertices\n",
        "    self.edges = edges\n",
        "    self.__m = edges\n",
        "    self.adj_list = [[] for _ in range(self.vertices+1)]\n",
        "  \n",
        "  def add_edges(self):\n",
        "    self.in_deg = [0 for _ in range(self.vertices+1)]\n",
        "    while self.__m:\n",
        "      a,b = list(map(int, input().split()))\n",
        "      self.adj_list[a].append(b)\n",
        "      self.in_deg[b] += 1\n",
        "      self.__m -= 1\n",
        "  \n",
        "  # Kahn's Algorithm is applied here for topological sorting\n",
        "  def print_schedule(self):\n",
        "    self.add_edges()\n",
        "    res = []\n",
        "    queue = []\n",
        "    for i in range(1, self.vertices+1):\n",
        "      if self.in_deg[i] == 0:\n",
        "        queue.append(i)\n",
        "    \n",
        "    while queue:\n",
        "      p = queue.pop()\n",
        "      res.append(p)\n",
        "\n",
        "      for child in self.adj_list[p]:\n",
        "        self.in_deg[child] -= 1\n",
        "        if self.in_deg[child] == 0:\n",
        "          queue.append(child)\n",
        "    \n",
        "    if len(res) == self.vertices:\n",
        "      for node in res:\n",
        "        print(node, end = \" \")\n",
        "    else:\n",
        "      print(\"IMPOSSIBLE\")\n",
        "\n",
        "def main():\n",
        "  v,e = list(map(int, input().split()))\n",
        "  g = graph(v, e)\n",
        "  g.print_schedule()\n",
        "main()"
      ]
    },
    {
      "cell_type": "code",
      "source": [
        ""
      ],
      "metadata": {
        "id": "tKh-0kbbMkaP"
      },
      "execution_count": null,
      "outputs": []
    }
  ]
}