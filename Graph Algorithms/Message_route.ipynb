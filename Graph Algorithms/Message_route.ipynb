{
  "nbformat": 4,
  "nbformat_minor": 0,
  "metadata": {
    "colab": {
      "name": "Message route.ipynb",
      "provenance": []
    },
    "kernelspec": {
      "name": "python3",
      "display_name": "Python 3"
    },
    "language_info": {
      "name": "python"
    }
  },
  "cells": [
    {
      "cell_type": "code",
      "execution_count": 5,
      "metadata": {
        "colab": {
          "base_uri": "https://localhost:8080/"
        },
        "id": "SIn3FYd03sum",
        "outputId": "cd443f0a-0f9c-4c4c-b6b4-8a5826eeaac5"
      },
      "outputs": [
        {
          "output_type": "stream",
          "name": "stdout",
          "text": [
            "5 5\n",
            "1 2\n",
            "1 3\n",
            "1 4\n",
            "2 3\n",
            "5 4\n",
            "3\n",
            "1 4 5 "
          ]
        }
      ],
      "source": [
        "class graph():\n",
        "  def __init__(self, vertices, edges):\n",
        "    self.vertices = vertices\n",
        "    self.edges = edges\n",
        "    self.__m = edges\n",
        "    self.adj_list = [[] for _ in range(self.vertices+1)]\n",
        "  \n",
        "  def add_edges(self):\n",
        "    while self.__m:\n",
        "      a,b = list(map(int, input().split()))\n",
        "      self.adj_list[a].append(b)\n",
        "      self.adj_list[b].append(a)\n",
        "      self.__m -= 1\n",
        "  \n",
        "  def bfs(self, node):\n",
        "    self.vis[node] = 1\n",
        "    queue = []\n",
        "    queue.append(node)\n",
        "\n",
        "    while queue:\n",
        "      p = queue.pop(0)\n",
        "      if p == self.end_node:\n",
        "        return True\n",
        "      \n",
        "      for child in self.adj_list[p]:\n",
        "        if self.vis[child] == 0:\n",
        "          self.par[child] = p\n",
        "          self.vis[child] = 1\n",
        "          queue.append(child)\n",
        "    \n",
        "    return False\n",
        "  \n",
        "  # Using BFS to find the shortest path from start node to end node\n",
        "  def message_route(self):\n",
        "    self.add_edges()\n",
        "    self.start_node = 1\n",
        "    self.end_node = self.vertices\n",
        "    self.vis = [0 for _ in range(self.vertices+1)]\n",
        "    self.par = [0 for _ in range(self.vertices+1)]\n",
        "    res = []\n",
        "\n",
        "    if self.bfs(self.start_node) == True:\n",
        "      path = self.end_node\n",
        "      while True:\n",
        "        if path == 0:\n",
        "          break\n",
        "        res.append(path)\n",
        "        path = self.par[path]\n",
        "      print(len(res))\n",
        "      for node in res[::-1]:\n",
        "        print(node, end=\" \") \n",
        "    else:\n",
        "      print(\"IMPOSSIBLE\")\n",
        "\n",
        "def main():\n",
        "  v,e = list(map(int, input().split()))\n",
        "  g = graph(v,e)\n",
        "  g.message_route()\n",
        "main()"
      ]
    },
    {
      "cell_type": "code",
      "source": [
        ""
      ],
      "metadata": {
        "id": "FyFX1YYq8XS2"
      },
      "execution_count": null,
      "outputs": []
    }
  ]
}