{
  "nbformat": 4,
  "nbformat_minor": 0,
  "metadata": {
    "colab": {
      "name": "Road Preparation.ipynb",
      "provenance": []
    },
    "kernelspec": {
      "name": "python3",
      "display_name": "Python 3"
    },
    "language_info": {
      "name": "python"
    }
  },
  "cells": [
    {
      "cell_type": "code",
      "execution_count": 4,
      "metadata": {
        "colab": {
          "base_uri": "https://localhost:8080/"
        },
        "id": "CNHQ-vzYT6LV",
        "outputId": "28128a42-f058-4241-b6c7-4b88cf43f607"
      },
      "outputs": [
        {
          "output_type": "stream",
          "name": "stdout",
          "text": [
            "5 6\n",
            "1 2 3\n",
            "2 3 5\n",
            "2 4 2\n",
            "3 4 8\n",
            "5 1 7\n",
            "5 4 4\n",
            "14\n"
          ]
        }
      ],
      "source": [
        "class graph():\n",
        "  def __init__(self, vertices, edges):\n",
        "    self.vertices = vertices\n",
        "    self.__m = edges\n",
        "    self.edge_list = []\n",
        "  \n",
        "  def add_edges(self):\n",
        "    while self.__m:\n",
        "      a,b, weight = list(map(int, input().split()))\n",
        "      self.edge_list.append((a,b,weight))\n",
        "      self.__m -= 1\n",
        "  \n",
        "  def min_reparation(self):\n",
        "    self.par = [-1 for _ in range(self.vertices+1)]\n",
        "    def find_par(node):\n",
        "      if self.par[node] == -1:\n",
        "        return node\n",
        "      else:\n",
        "        return find_par(self.par[node])\n",
        "    \n",
        "    def merge(a, b):\n",
        "      self.par[b] = a\n",
        "\n",
        "    def sort_func(elem):\n",
        "      return elem[2]\n",
        "\n",
        "    self.add_edges()\n",
        "    self.edge_list = sorted(self.edge_list, key = sort_func)\n",
        "    res_weight = 0\n",
        "    roads_made = 0\n",
        "\n",
        "    for (node_a, node_b, weight) in self.edge_list:\n",
        "      # Nodes dont belong to the same set so we need to merge\n",
        "      if find_par(node_a) != find_par(node_b):\n",
        "        merge(find_par(node_a), find_par(node_b))\n",
        "        res_weight += weight\n",
        "        roads_made += 1\n",
        "    \n",
        "    if roads_made == (self.vertices-1):\n",
        "      print(res_weight)\n",
        "    else:\n",
        "      print(\"IMPOSSIBLE\")\n",
        "\n",
        "def main():\n",
        "  v,e = list(map(int, input().split()))\n",
        "  g = graph(v,e)\n",
        "  g.min_reparation()\n",
        "main()"
      ]
    },
    {
      "cell_type": "code",
      "source": [
        ""
      ],
      "metadata": {
        "id": "FRC9Q-gEXUvB"
      },
      "execution_count": null,
      "outputs": []
    }
  ]
}