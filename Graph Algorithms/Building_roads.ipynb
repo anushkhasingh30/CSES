{
  "nbformat": 4,
  "nbformat_minor": 0,
  "metadata": {
    "colab": {
      "name": "Building_roads.ipynb",
      "provenance": []
    },
    "kernelspec": {
      "name": "python3",
      "display_name": "Python 3"
    },
    "language_info": {
      "name": "python"
    }
  },
  "cells": [
    {
      "cell_type": "code",
      "execution_count": 9,
      "metadata": {
        "colab": {
          "base_uri": "https://localhost:8080/"
        },
        "id": "m-Ys-8JTYpg2",
        "outputId": "69980955-7f1b-4847-a2bf-a796a8c837dd"
      },
      "outputs": [
        {
          "output_type": "stream",
          "name": "stdout",
          "text": [
            "4 2\n",
            "1 2\n",
            "3 4\n",
            "2\n",
            "1 3\n"
          ]
        }
      ],
      "source": [
        "class graph():\n",
        "  def __init__(self, vertices, edges):\n",
        "    self.vertices = vertices\n",
        "    self.edges = edges\n",
        "    self.__m = edges\n",
        "    self.adj_list = [[] for _ in range(self.vertices+1)]\n",
        "  \n",
        "  def add_edges(self):\n",
        "    while self.__m:\n",
        "      a,b = list(map(int, input().split()))\n",
        "      self.adj_list[a].append(b)\n",
        "      self.adj_list[b].append(a)\n",
        "      self.__m -= 1\n",
        "  \n",
        "  def dfs(self, node):\n",
        "    self.vis[node] = 1\n",
        "    \n",
        "    for child in self.adj_list[node]:\n",
        "      if self.vis[child] == 0:\n",
        "        self.dfs(child)\n",
        "\n",
        "  def solve(self):\n",
        "    self.add_edges()\n",
        "    # print(self.adj_list)\n",
        "    # Visited array to keep a track of visited nodes so as to not visit them again\n",
        "    self.vis = [0 for _ in range(self.vertices+1)]\n",
        "    self.res_roads = []\n",
        "\n",
        "    # Counting number of connected components\n",
        "    self.cc_count = 0\n",
        "    for node in range(1, self.vertices+1):\n",
        "      if self.vis[node] == 0:\n",
        "        self.dfs(node)\n",
        "        # print(self.vis)\n",
        "        self.res_roads.append(node)\n",
        "        self.cc_count += 1\n",
        "    \n",
        "    # Minimum number of roads required\n",
        "    print(self.cc_count)\n",
        "\n",
        "    # Printing the roads to be constructed\n",
        "    for i in range(1, self.cc_count):\n",
        "      print(self.res_roads[i-1], self.res_roads[i])\n",
        "\n",
        "def main():\n",
        "  v,e = list(map(int, input().split()))\n",
        "  g = graph(v,e)\n",
        "  g.solve()\n",
        "main()"
      ]
    },
    {
      "cell_type": "code",
      "source": [
        ""
      ],
      "metadata": {
        "id": "ml70zJtSb0gz"
      },
      "execution_count": null,
      "outputs": []
    }
  ]
}