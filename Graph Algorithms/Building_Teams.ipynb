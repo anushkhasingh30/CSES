{
  "nbformat": 4,
  "nbformat_minor": 0,
  "metadata": {
    "colab": {
      "name": "Building Teams.ipynb",
      "provenance": []
    },
    "kernelspec": {
      "name": "python3",
      "display_name": "Python 3"
    },
    "language_info": {
      "name": "python"
    }
  },
  "cells": [
    {
      "cell_type": "code",
      "execution_count": 5,
      "metadata": {
        "colab": {
          "base_uri": "https://localhost:8080/"
        },
        "id": "4ahw1tX-lcTD",
        "outputId": "00fb1ca8-1cf8-4dc6-bab8-d35445ec472e"
      },
      "outputs": [
        {
          "output_type": "stream",
          "name": "stdout",
          "text": [
            "5 3\n",
            "1 2\n",
            "1 3\n",
            "4 5\n",
            "1 2 2 1 2 "
          ]
        }
      ],
      "source": [
        "class graph():\n",
        "  def __init__(self, vertices, edges):\n",
        "    self.vertices = vertices\n",
        "    self.edges = edges\n",
        "    self.__m = edges\n",
        "    self.adj_list = [[] for _ in range(self.vertices+1)]\n",
        "  \n",
        "  def build_edges(self):\n",
        "    while self.__m:\n",
        "      a,b = list(map(int, input().split()))\n",
        "      self.adj_list[a].append(b)\n",
        "      self.adj_list[b].append(a)\n",
        "      self.__m -= 1\n",
        "  \n",
        "  # Using bipartite graph test to divide the pupils into 2 teams such that no 2 pupils have any friendship\n",
        "  def dfs(self, node, color):\n",
        "    self.vis[node] = 1\n",
        "    self.teams[node] = color\n",
        "\n",
        "    for child in self.adj_list[node]:\n",
        "      if self.vis[child] == 0:\n",
        "        flag = self.dfs(child, color^1)\n",
        "        if flag == False:\n",
        "          return False\n",
        "      else:\n",
        "        if self.teams[child] == self.teams[node]:\n",
        "          return False\n",
        "    return True\n",
        "\n",
        "  def build_teams(self):\n",
        "    self.build_edges()\n",
        "    self.vis = [0 for _ in range(self.vertices+1)]\n",
        "    self.teams = [0 for _ in range(self.vertices+1)]\n",
        "    team_check = True\n",
        "\n",
        "    # running dfs for all connected components\n",
        "    for node in range(1, self.vertices+1):\n",
        "      if self.vis[node] == 0:\n",
        "        team_check = self.dfs(node, 0)\n",
        "        if team_check == False:\n",
        "          break\n",
        "        else:\n",
        "          continue\n",
        "    \n",
        "    if not team_check:\n",
        "      print(\"IMPOSSIBLE\")\n",
        "    else:\n",
        "      for i in range(1, self.vertices+1):\n",
        "        print(self.teams[i]+1, end = \" \")\n",
        "\n",
        "def main():\n",
        "  v,e = list(map(int, input().split()))\n",
        "  g = graph(v, e)\n",
        "  g.build_teams()\n",
        "main()"
      ]
    },
    {
      "cell_type": "code",
      "source": [
        ""
      ],
      "metadata": {
        "id": "vC9eZEncoWfu"
      },
      "execution_count": null,
      "outputs": []
    }
  ]
}