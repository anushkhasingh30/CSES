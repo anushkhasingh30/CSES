{
  "nbformat": 4,
  "nbformat_minor": 0,
  "metadata": {
    "colab": {
      "name": "Shortest Path 1.ipynb",
      "provenance": []
    },
    "kernelspec": {
      "name": "python3",
      "display_name": "Python 3"
    },
    "language_info": {
      "name": "python"
    }
  },
  "cells": [
    {
      "cell_type": "code",
      "execution_count": 4,
      "metadata": {
        "colab": {
          "base_uri": "https://localhost:8080/"
        },
        "id": "XpWiMrIeAaWR",
        "outputId": "a1bd204a-6b82-48a2-bd25-89e18093e48d"
      },
      "outputs": [
        {
          "output_type": "stream",
          "name": "stdout",
          "text": [
            "3 4\n",
            "1 2 6\n",
            "1 3 2\n",
            "3 2 3\n",
            "1 3 4\n",
            "0 5 2 "
          ]
        }
      ],
      "source": [
        "class graph():\n",
        "  def __init__(self, vertices, edges):\n",
        "    self.vertices = vertices\n",
        "    self.edges = edges\n",
        "    self.__m = edges\n",
        "    self.adj_list = [[] for _ in range(self.vertices+1)]\n",
        "  \n",
        "  def add_edges(self):\n",
        "    while self.__m:\n",
        "      a,b,w = list(map(int, input().split()))\n",
        "      self.adj_list[a].append((b,w))\n",
        "      self.__m -= 1\n",
        "  \n",
        "  def dijsktra(self, src):\n",
        "    queue = []\n",
        "    # queue having a pair of (dist, node)\n",
        "    queue.append((0, src))\n",
        "\n",
        "    while queue:\n",
        "      dist, node = queue.pop(0)\n",
        "      for child, weight in self.adj_list[node]:\n",
        "        if dist+weight<self.dist[child]:\n",
        "          self.dist[child] = dist+weight\n",
        "          queue.append((self.dist[child], child))\n",
        "\n",
        "  def shortest_path(self):\n",
        "    self.add_edges()\n",
        "    # Finding shortest path in a weighted graph\n",
        "    self.dist = [float(\"inf\") for _ in range(self.vertices+1)]\n",
        "    src = 1\n",
        "    self.dist[src] = 0\n",
        "\n",
        "    self.dijsktra(src)\n",
        "\n",
        "    for node in range(1, self.vertices+1):\n",
        "      print(self.dist[node], end = \" \")\n",
        "\n",
        "def main():\n",
        "  v,e = list(map(int, input().split()))\n",
        "  g = graph(v,e)\n",
        "  g.shortest_path()\n",
        "main()"
      ]
    },
    {
      "cell_type": "code",
      "source": [
        ""
      ],
      "metadata": {
        "id": "X681RBJfIvNp"
      },
      "execution_count": null,
      "outputs": []
    }
  ]
}