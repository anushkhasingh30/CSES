{
  "nbformat": 4,
  "nbformat_minor": 0,
  "metadata": {
    "colab": {
      "name": "Road Construction.ipynb",
      "provenance": []
    },
    "kernelspec": {
      "name": "python3",
      "display_name": "Python 3"
    },
    "language_info": {
      "name": "python"
    }
  },
  "cells": [
    {
      "cell_type": "code",
      "execution_count": 4,
      "metadata": {
        "colab": {
          "base_uri": "https://localhost:8080/"
        },
        "id": "_bBAl1p1HrBu",
        "outputId": "87d050a0-7716-4489-9799-16521e86247b"
      },
      "outputs": [
        {
          "output_type": "stream",
          "name": "stdout",
          "text": [
            "5 3\n",
            "1 2\n",
            "output 4 2\n",
            "1 3\n",
            "output 3 3\n",
            "4 5\n",
            "output 2 3\n"
          ]
        }
      ],
      "source": [
        "class graph():\n",
        "  def __init__(self, vertices, edges):\n",
        "    self.vertices = vertices\n",
        "    self.__m = edges\n",
        "    self.par = [-1 for _ in range(self.vertices+1)]\n",
        "    self.rank = [1 for _ in range(self.vertices+1)]\n",
        "  \n",
        "  def road_construct(self):\n",
        "    def find_par(node):\n",
        "      if self.par[node] == -1:\n",
        "        return node\n",
        "      else:\n",
        "        return find_par(self.par[node])\n",
        "    \n",
        "    def merge(a, b):\n",
        "      a = find_par(a)\n",
        "      b = find_par(b)\n",
        "\n",
        "      if self.rank[a] < self.rank[b]:\n",
        "        a,b = b,a\n",
        "      \n",
        "      self.par[b] = a\n",
        "      self.rank[a] += self.rank[b]\n",
        "      return self.rank[a]\n",
        "    \n",
        "    mx = 1\n",
        "    cc = self.vertices\n",
        "    while self.__m:\n",
        "      a,b = list(map(int, input().split()))\n",
        "      if find_par(a) != find_par(b):\n",
        "        cc -= 1\n",
        "        mx = max(mx, merge(a,b))\n",
        "      print(\"output\",cc, mx)\n",
        "      self.__m -= 1\n",
        "\n",
        "def main():\n",
        "  v,e = list(map(int, input().split()))\n",
        "  g = graph(v,e)\n",
        "  g.road_construct()\n",
        "main()"
      ]
    },
    {
      "cell_type": "code",
      "source": [
        ""
      ],
      "metadata": {
        "id": "PqPH3-2mOCsE"
      },
      "execution_count": null,
      "outputs": []
    }
  ]
}