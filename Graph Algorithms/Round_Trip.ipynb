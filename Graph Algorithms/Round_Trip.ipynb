{
  "nbformat": 4,
  "nbformat_minor": 0,
  "metadata": {
    "colab": {
      "name": "Round Trip.ipynb",
      "provenance": []
    },
    "kernelspec": {
      "name": "python3",
      "display_name": "Python 3"
    },
    "language_info": {
      "name": "python"
    }
  },
  "cells": [
    {
      "cell_type": "code",
      "execution_count": 3,
      "metadata": {
        "colab": {
          "base_uri": "https://localhost:8080/"
        },
        "id": "zdNk_LXD0ciH",
        "outputId": "b608ac40-a96f-4bfd-bf05-f305e5b4248a"
      },
      "outputs": [
        {
          "output_type": "stream",
          "name": "stdout",
          "text": [
            "5 6\n",
            "1 3\n",
            "1 2\n",
            "5 3\n",
            "1 5\n",
            "2 4\n",
            "4 5\n",
            "1 5 3 1 "
          ]
        }
      ],
      "source": [
        "class graph():\n",
        "  def __init__(self, vertices, edges):\n",
        "    self.vertices = vertices\n",
        "    self.edges = edges\n",
        "    self.adj_list = [[] for _ in range(self.vertices+1)]\n",
        "    self.__m = edges\n",
        "  \n",
        "  def add_edges(self):\n",
        "    while self.__m:\n",
        "      a,b = list(map(int, input().split()))\n",
        "      self.adj_list[a].append(b)\n",
        "      self.adj_list[b].append(a)\n",
        "      self.__m -= 1\n",
        "  \n",
        "  def dfs(self, node, par):\n",
        "    self.vis[node] = 1\n",
        "    self.temp.append(node)\n",
        "\n",
        "    for child in self.adj_list[node]:\n",
        "      if self.vis[child] == 0:\n",
        "        if self.dfs(child, node) == True:\n",
        "          return True\n",
        "      else:\n",
        "        if child != par:\n",
        "          self.temp.append(child)\n",
        "          return True\n",
        "    self.temp.pop()\n",
        "    return False\n",
        "\n",
        "  def round_trip(self):\n",
        "    self.add_edges()\n",
        "    self.vis = [0 for _ in range(self.vertices+1)]\n",
        "    flag = False\n",
        "    self.temp = []\n",
        "    self.res = []\n",
        "\n",
        "    for node in range(1, self.vertices+1):\n",
        "      if self.vis[node] == 0:\n",
        "        flag = self.dfs(node, -1)\n",
        "        if flag == True:\n",
        "          break\n",
        "    \n",
        "    if flag == False:\n",
        "      print(\"IMPOSSIBLE\")\n",
        "    else:\n",
        "      # Print this or print the cycle in reverse order\n",
        "      # print(self.temp)\n",
        "      src = self.temp.pop()\n",
        "      self.res.append(src)\n",
        "\n",
        "      while True:\n",
        "        cur = self.temp.pop()\n",
        "        self.res.append(cur)\n",
        "\n",
        "        if cur == src:\n",
        "          break\n",
        "      \n",
        "      for node in self.res:\n",
        "        print(node, end = \" \")\n",
        "\n",
        "def main():\n",
        "  cities, roads = list(map(int, input().split()))\n",
        "  g = graph(cities, roads)\n",
        "  g.round_trip()\n",
        "\n",
        "main()"
      ]
    },
    {
      "cell_type": "code",
      "source": [
        ""
      ],
      "metadata": {
        "id": "_gFXP1ow4NVC"
      },
      "execution_count": null,
      "outputs": []
    }
  ]
}