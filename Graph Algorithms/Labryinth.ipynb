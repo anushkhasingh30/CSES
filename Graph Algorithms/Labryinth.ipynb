{
  "nbformat": 4,
  "nbformat_minor": 0,
  "metadata": {
    "colab": {
      "name": "Labryinth.ipynb",
      "provenance": []
    },
    "kernelspec": {
      "name": "python3",
      "display_name": "Python 3"
    },
    "language_info": {
      "name": "python"
    }
  },
  "cells": [
    {
      "cell_type": "code",
      "execution_count": 4,
      "metadata": {
        "colab": {
          "base_uri": "https://localhost:8080/"
        },
        "id": "z_reMVJ6qGw2",
        "outputId": "a534c292-9f9f-496f-edb5-550cb905f951"
      },
      "outputs": [
        {
          "output_type": "stream",
          "name": "stdout",
          "text": [
            "5 8\n",
            "# # # # # # # #\n",
            "# . A # . . . #\n",
            "# . # # . # B #\n",
            "# . . . . . . #\n",
            "# # # # # # # #\n",
            "YES\n",
            "9\n",
            "L D D R R R R R U\n"
          ]
        }
      ],
      "source": [
        "class graph():\n",
        "  def __init__(self, row, col):\n",
        "    self.row = row\n",
        "    self.col = col\n",
        "    self.arr = [[\" \"]*(self.col+1) for _ in range(self.row+1)]\n",
        "  \n",
        "  def fill_arr(self):\n",
        "    for r in range(1, self.row+1):\n",
        "      row_in = list(input().split())\n",
        "      for c in range(1, self.col+1):\n",
        "        if row_in[c-1] == \"A\":\n",
        "          self.start_x = r\n",
        "          self.start_y = c\n",
        "        self.arr[r][c] = row_in[c-1]\n",
        "  \n",
        "  def __is_valid(self, x, y):\n",
        "    if y<1 or y>self.col or x<1 or x>self.row:\n",
        "      return False\n",
        "    \n",
        "    if self.vis[x][y] == 1 or self.arr[x][y] == \"#\":\n",
        "      return False\n",
        "    return True\n",
        "  \n",
        "  # Using bfs to get the shortest path from \"A\" to \"B\" \n",
        "  def bfs(self, x, y):\n",
        "    self.path = []\n",
        "    # up down left right\n",
        "    dx = [-1, 1, 0, 0]\n",
        "    dy = [0, 0, -1, 1]\n",
        "    queue = []\n",
        "    queue.append((x,y))\n",
        "    self.vis[x][y] = 1\n",
        "\n",
        "    while queue:\n",
        "      a,b = queue.pop(0)\n",
        "\n",
        "      if self.arr[a][b] == \"B\":\n",
        "        while True:\n",
        "          self.path.append(self.dir[a][b])\n",
        "          if self.dir[a][b] == \"U\":\n",
        "            a+=1\n",
        "          elif self.dir[a][b] == \"D\":\n",
        "            a-=1\n",
        "          elif self.dir[a][b] == \"L\":\n",
        "            b+=1\n",
        "          else:\n",
        "            b-=1\n",
        "          \n",
        "          if self.arr[a][b] == \"A\":\n",
        "            break\n",
        "        return True\n",
        "\n",
        "      for i in range(len(dx)):\n",
        "        new_x = a + dx[i]\n",
        "        new_y = b + dy[i]\n",
        "        # up\n",
        "        if dx[i] == -1 and dy[i] == 0:\n",
        "          if self.__is_valid(new_x, new_y):\n",
        "            self.vis[new_x][new_y] = 1\n",
        "            self.dir[new_x][new_y] = \"U\"\n",
        "            queue.append((new_x, new_y))\n",
        "        # down\n",
        "        elif dx[i] == 1 and dy[i] == 0:\n",
        "          if self.__is_valid(new_x, new_y):\n",
        "            self.vis[new_x][new_y] = 1\n",
        "            self.dir[new_x][new_y] = \"D\"\n",
        "            queue.append((new_x, new_y))\n",
        "        # left\n",
        "        elif dx[i] == 0 and dy[i] == -1:\n",
        "          if self.__is_valid(new_x, new_y):\n",
        "            self.vis[new_x][new_y] = 1\n",
        "            self.dir[new_x][new_y] = \"L\"\n",
        "            queue.append((new_x, new_y))\n",
        "        # right\n",
        "        else:\n",
        "          if self.__is_valid(new_x, new_y):\n",
        "            self.vis[new_x][new_y] = 1\n",
        "            self.dir[new_x][new_y] = \"R\"\n",
        "            queue.append((new_x, new_y))\n",
        "    return False\n",
        "\n",
        "  def solve_labyrinth(self):\n",
        "    self.fill_arr()\n",
        "    self.vis = [[0]*(self.col+1) for _ in range(self.row+1)]\n",
        "    self.dir = [[\" \"]*(self.col+1) for _ in range(self.row+1)]\n",
        "    if self.bfs(self.start_x, self.start_y) == True:\n",
        "      print(\"YES\")\n",
        "      print(len(self.path))\n",
        "      print(\" \".join(list(map(str, self.path[::-1]))))\n",
        "\n",
        "def main():\n",
        "  n, m = list(map(int, input().split()))\n",
        "  g = graph(n, m)\n",
        "  g.solve_labyrinth()\n",
        "\n",
        "main()"
      ]
    },
    {
      "cell_type": "code",
      "source": [
        ""
      ],
      "metadata": {
        "id": "EnYN4xZjxngl"
      },
      "execution_count": null,
      "outputs": []
    }
  ]
}